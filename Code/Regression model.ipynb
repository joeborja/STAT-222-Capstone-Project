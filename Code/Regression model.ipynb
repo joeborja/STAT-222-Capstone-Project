{
 "cells": [
  {
   "cell_type": "markdown",
   "metadata": {},
   "source": [
    "# Reading in data"
   ]
  },
  {
   "cell_type": "code",
   "execution_count": 1,
   "metadata": {},
   "outputs": [],
   "source": [
    "import numpy as np\n",
    "import pandas as pd\n",
    "import matplotlib.pyplot as plt\n",
    "%matplotlib inline\n",
    "\n",
    "data = pd.read_csv('../Data/deathrate_clean.csv')"
   ]
  },
  {
   "cell_type": "markdown",
   "metadata": {},
   "source": [
    "# Linear regression model"
   ]
  },
  {
   "cell_type": "markdown",
   "metadata": {},
   "source": [
    "Single county"
   ]
  },
  {
   "cell_type": "code",
   "execution_count": 2,
   "metadata": {},
   "outputs": [
    {
     "data": {
      "image/png": "[encoded data removed]",
      "text/plain": [
       "<Figure size 600x400 with 1 Axes>"
      ]
     },
     "metadata": {},
     "output_type": "display_data"
    }
   ],
   "source": [
    "county_name = 'Alameda County, CA'\n",
    "alameda = data[data['County'] == county_name]\n",
    "alameda_y = alameda[alameda[\"Year\"] >= 2000]['Deathrate']\n",
    "alameda_x = alameda[alameda[\"Year\"].isin(range(1999, 2014))][\"Deathrate\"]\n",
    "alameda_X = np.diag(alameda_x)\n",
    "\n",
    "from sklearn.linear_model import LinearRegression\n",
    "\n",
    "reg = LinearRegression(fit_intercept = False).fit(alameda_X, alameda_y)\n",
    "plt.scatter(range(alameda_y.size), reg.coef_)\n",
    "plt.show()"
   ]
  },
  {
   "cell_type": "markdown",
   "metadata": {},
   "source": [
    "Multiple counties"
   ]
  },
  {
   "cell_type": "code",
   "execution_count": 3,
   "metadata": {},
   "outputs": [],
   "source": [
    "max_counties = 3133\n",
    "all_counties = data[\"County\"].unique()\n",
    "unique_counties = all_counties[:max_counties]\n",
    "\n",
    "y_list = []\n",
    "X_list = []\n",
    "\n",
    "for county_name in unique_counties:\n",
    "    county = data[data[\"County\"] == county_name]\n",
    "    county_y = county[county[\"Year\"].isin(range(2000,2015))][\"Deathrate\"]\n",
    "    county_x = county[county[\"Year\"].isin(range(1999, 2014))][\"Deathrate\"]\n",
    "    county_X = np.diag(county_x)\n",
    "    y_list.append(county_y)\n",
    "    X_list.append(county_X)\n",
    "    \n",
    "y = [element for county_y in y_list for element in county_y ]\n",
    "\n",
    "from scipy.linalg import block_diag\n",
    "\n",
    "X = block_diag(*X_list)"
   ]
  },
  {
   "cell_type": "markdown",
   "metadata": {},
   "source": [
    "OLS solution"
   ]
  },
  {
   "cell_type": "code",
   "execution_count": null,
   "metadata": {},
   "outputs": [],
   "source": [
    "beta_ols = y / np.diag(X)\n",
    "beta_ols"
   ]
  },
  {
   "cell_type": "markdown",
   "metadata": {},
   "source": [
    "Plot of coefficient vector"
   ]
  },
  {
   "cell_type": "code",
   "execution_count": null,
   "metadata": {},
   "outputs": [],
   "source": [
    "plt.plot(range(len(y)), beta_ols)\n",
    "plt.show()"
   ]
  },
  {
   "cell_type": "markdown",
   "metadata": {},
   "source": [
    "Plot of sorted coefficient vector"
   ]
  },
  {
   "cell_type": "code",
   "execution_count": null,
   "metadata": {},
   "outputs": [],
   "source": [
    "plt.plot(range(len(y)), np.sort(beta_ols))\n",
    "plt.show()"
   ]
  },
  {
   "cell_type": "markdown",
   "metadata": {},
   "source": [
    "Ridge regression solution with prior mean $\\mu = \\underline{1}$.\n",
    "\n",
    "$$\n",
    "\\beta = (X^T X + \\lambda I)^{-1} (X^T y + \\lambda \\underline{1}) =\n",
    "\\begin{pmatrix}\n",
    "\\frac{y_1 x_1 + \\lambda}{x_1^2 + \\lambda}\\\\\n",
    "\\vdots \\\\\n",
    "\\frac{y_n x_n + \\lambda}{x_n^2 + \\lambda}\n",
    "\\end{pmatrix}\n",
    "$$"
   ]
  },
  {
   "cell_type": "code",
   "execution_count": 4,
   "metadata": {},
   "outputs": [],
   "source": [
    "def ridge(y,X, llambda):\n",
    "    x = np.diag(X) \n",
    "    return ((y * x + llambda)/(x**2 + llambda))"
   ]
  },
  {
   "cell_type": "markdown",
   "metadata": {},
   "source": [
    "Compare solutions from OLS to solutions from ridge regression for various settings of $\\lambda$."
   ]
  },
  {
   "cell_type": "code",
   "execution_count": 5,
   "metadata": {},
   "outputs": [],
   "source": [
    "def model_comparison(y, X, llambda, sort = False):\n",
    "    reg_ols = ridge(y, X, 0)\n",
    "    \n",
    "    if sort: reg_ols = np.sort(reg_ols)\n",
    "    plt.plot(reg_ols)\n",
    "    \n",
    "    reg_ridge = ridge(y, X, llambda)\n",
    "    \n",
    "    if sort: reg_ridge = np.sort(reg_ridge)\n",
    "    plt.plot(reg_ridge)\n",
    "\n",
    "    is_sorted = \" (sorted)\" if sort == True else \"\"\n",
    "    plt.title(\"Comparison of OLS and Ridge regression coefficient vectors\" + is_sorted )\n",
    "\n",
    "    plt.legend(['OLS', 'Ridge with $\\lambda=$' + str(llambda)])\n",
    "    plt.show()"
   ]
  },
  {
   "cell_type": "markdown",
   "metadata": {},
   "source": [
    "Comparison of methods for Alameda county."
   ]
  },
  {
   "cell_type": "code",
   "execution_count": null,
   "metadata": {},
   "outputs": [],
   "source": [
    "model_comparison(alameda_y, alameda_X, 100)"
   ]
  },
  {
   "cell_type": "markdown",
   "metadata": {},
   "source": [
    "Comparison of methods for multiple counties."
   ]
  },
  {
   "cell_type": "code",
   "execution_count": null,
   "metadata": {},
   "outputs": [],
   "source": [
    "model_comparison(y,X,100)"
   ]
  },
  {
   "cell_type": "code",
   "execution_count": null,
   "metadata": {},
   "outputs": [],
   "source": [
    "model_comparison(y,X, 100, sort = True)"
   ]
  },
  {
   "cell_type": "markdown",
   "metadata": {},
   "source": [
    "Ridge regression with prior mean $\\mu$ and prior covariance $\\Sigma$.\n",
    "\n",
    "$$\\beta = (X^T X + \\lambda \\Sigma)^{-1} (X^T y + \\lambda \\Sigma \\mu)$$"
   ]
  },
  {
   "cell_type": "code",
   "execution_count": 6,
   "metadata": {},
   "outputs": [],
   "source": [
    "def ridge(y, X, llambda, mu = None, Sigma = None):\n",
    "    \n",
    "    x = np.diag(X) \n",
    "    \n",
    "    if mu is None:\n",
    "        mu = np.ones(len(y))\n",
    "        \n",
    "    if Sigma is None:\n",
    "        return ((y*x + llambda * mu) / (x**2 + llambda))\n",
    "    else:\n",
    "        return np.linalg.solve((X.T@X) + (llambda*Sigma), (X.T@y) + llambda*(Sigma@mu))"
   ]
  },
  {
   "cell_type": "markdown",
   "metadata": {},
   "source": [
    "Problem: Computing the exact solution may can be slow due to the matrix multiplication and inversion.\n",
    "\n",
    "Question: Can we compute an acceptable approximation in less time using gradient descent?\n",
    "\n",
    "Our loss function is given by\n",
    "\n",
    "$$\n",
    "L(\\beta) = \\|y - X\\beta\\|_2^2 + \\lambda (\\beta-\\underline{1})^T \\Sigma (\\beta - \\underline{1})\n",
    "$$\n",
    "\n",
    "The gradient of this function is\n",
    "\n",
    "$$\n",
    "\\nabla L(\\beta) = 2X^T (X\\beta - y) + 2\\lambda \\Sigma (\\beta - \\underline{1}) = \\begin{pmatrix}\n",
    "2x_1 (x_1 \\beta - y_1) + 2\\lambda (\\beta_1 - 1) \\times \\Sigma_{1,\\cdot} \\\\\n",
    "\\vdots\\\\\n",
    "2x_n(x_n \\beta - y_n) + 2\\lambda(\\beta_1 - 1) \\times \\Sigma_{n,\\cdot}\n",
    "\\end{pmatrix}\n",
    "$$\n",
    "\n",
    "Gradient descent update:\n",
    "\n",
    "$$\n",
    "\\beta_{t+1} = \\beta_{t} - \\alpha \\nabla L(\\beta_t).\n",
    "$$\n"
   ]
  },
  {
   "cell_type": "code",
   "execution_count": 7,
   "metadata": {},
   "outputs": [],
   "source": [
    "def descent_update(y, X, alpha, beta, llambda, mu, Sigma):\n",
    "    \n",
    "    x = np.diag(X)\n",
    "    gradient = 2* x**2 * beta - 2 * x * y\n",
    "    \n",
    "    penalty = np.zeros(len(beta))\n",
    "    \n",
    "# Method 1\n",
    "#     for i in range(len(beta)):\n",
    "#         for j in range(len(beta)):\n",
    "#             penalty[i] = penalty[i] + (2*llambda * (beta[j] - mu[j]) * Sigma[i,j])\n",
    "\n",
    "# Method 2\n",
    "#    penalty = [2 * llambda * np.sum([row[j] * (beta[j] - mu[j]) for j in range(len(row))]) for row in Sigma]        \n",
    "\n",
    "# Method 3\n",
    "#    from scipy import sparse\n",
    "#    penalty = 2 * llambda * sparse.csr_matrix(Sigma) @ (beta - mu)\n",
    "\n",
    "# Method 4\n",
    "    penalty = 2 * llambda * Sigma @ (beta - mu)\n",
    "    \n",
    "    gradient += penalty\n",
    "\n",
    "    return np.array(beta - alpha * gradient)"
   ]
  },
  {
   "cell_type": "markdown",
   "metadata": {},
   "source": [
    "Exploring fastest ways to implement the descent update above."
   ]
  },
  {
   "cell_type": "code",
   "execution_count": null,
   "metadata": {},
   "outputs": [],
   "source": [
    "alpha = 0.01\n",
    "n = len(y)\n",
    "beta = np.zeros(n)\n",
    "llambda = 10\n",
    "mu = np.ones(n)\n",
    "Sigma = np.eye(n)"
   ]
  },
  {
   "cell_type": "code",
   "execution_count": null,
   "metadata": {},
   "outputs": [],
   "source": [
    "%%time\n",
    "beta1 = descent_update(y, X, alpha, beta, llambda, mu, Sigma)"
   ]
  },
  {
   "cell_type": "markdown",
   "metadata": {},
   "source": [
    "Full gradient descent algorithm:"
   ]
  },
  {
   "cell_type": "code",
   "execution_count": 8,
   "metadata": {},
   "outputs": [],
   "source": [
    "def GD(input_y, input_X, alpha, llambda, mu, Sigma, max_iter):\n",
    "\n",
    "    beta_initial = np.zeros(len(input_y))\n",
    "    beta = beta_initial\n",
    "    \n",
    "    for t in range(max_iter):\n",
    "        beta = descent_update(input_y, input_X, alpha, beta, llambda, mu, Sigma)\n",
    "    \n",
    "    return beta"
   ]
  },
  {
   "cell_type": "markdown",
   "metadata": {},
   "source": [
    "Comparison between gradient descent and the exact solution to get an idea of the step size and number of iterations needed to compute an acceptable approximation."
   ]
  },
  {
   "cell_type": "code",
   "execution_count": 9,
   "metadata": {},
   "outputs": [],
   "source": [
    "def GD_diagnostic(input_y, input_X, alpha, llambda, mu, Sigma, max_iter):\n",
    "\n",
    "    reg_ridge = ridge(input_y, input_X, llambda)\n",
    "\n",
    "    beta_initial = np.zeros(len(input_y))\n",
    "    beta = beta_initial\n",
    "    \n",
    "    differences = np.zeros(max_iter)\n",
    "    for t in range(max_iter):\n",
    "        beta = descent_update(input_y, input_X, alpha, beta, llambda, mu, Sigma)\n",
    "        differences[t] = np.linalg.norm(reg_ridge - beta)\n",
    "        \n",
    "    plt.plot(range(max_iter), differences)\n",
    "    plt.title(\"Distance from exact solution versus number of iterations\")\n",
    "    plt.show()\n",
    "    print('Distance from exact solution for last iteration is ' + str(differences[-1]))\n",
    "    \n",
    "    plt.plot(range(len(reg_ridge)), reg_ridge)\n",
    "    plt.plot(range(len(reg_ridge)), beta)\n",
    "    plt.title(\"Comparison of Ridge regression coefficient vectors and gradient descent\")\n",
    "    plt.legend(['Ridge with $\\lambda = $' + str(llambda), 'Gradient descent with stepsize = ' + str(alpha)])\n",
    "    # Note: Only a relevant comparison for Sigma = Identity. \n",
    "    # There is not closed form available for comparison when Sigma != Identity.\n",
    "    # We want a sense of how many gradient iterations give us a similar answer to the exact solution.\n",
    "    plt.show()"
   ]
  },
  {
   "cell_type": "markdown",
   "metadata": {},
   "source": [
    "Test on single county case"
   ]
  },
  {
   "cell_type": "code",
   "execution_count": null,
   "metadata": {},
   "outputs": [],
   "source": [
    "GD_diagnostic(alameda_y, alameda_X, alpha = 0.001, llambda = 100, mu = np.ones(15), Sigma = np.eye(15), max_iter = 20)"
   ]
  },
  {
   "cell_type": "markdown",
   "metadata": {},
   "source": [
    "Multiple counties"
   ]
  },
  {
   "cell_type": "code",
   "execution_count": null,
   "metadata": {},
   "outputs": [],
   "source": [
    "GD_diagnostic(y, X, alpha = 0.001, llambda = 100, mu = np.ones(len(y)), Sigma = np.eye(len(y)), max_iter = 50)"
   ]
  },
  {
   "cell_type": "markdown",
   "metadata": {},
   "source": [
    "Gradient descent seems to produce an answer roughly equal to the exact solution after 20-30 iterations with step size equal to 0.001."
   ]
  },
  {
   "cell_type": "markdown",
   "metadata": {},
   "source": [
    "Gradient descent is consistently slower the computing the exact solution for the case $\\mu = (1,\\dots,1)$ and $\\Sigma = I$. For more general $\\Sigma$, we need to compute the normal equations. Fifty iterations of gradient descent produces a reasonable solution much faster than solving the linear system."
   ]
  },
  {
   "cell_type": "code",
   "execution_count": null,
   "metadata": {},
   "outputs": [],
   "source": [
    "n = len(y)\n",
    "Z = np.random.randn(n)\n",
    "Sigma = np.eye(n) + np.outer(Z,Z)"
   ]
  },
  {
   "cell_type": "code",
   "execution_count": null,
   "metadata": {},
   "outputs": [],
   "source": [
    "%%time \n",
    "\n",
    "beta = GD(y, X, alpha = 0.001, llambda = 100, mu = np.ones(len(y)), Sigma = Sigma, max_iter = 50)"
   ]
  },
  {
   "cell_type": "markdown",
   "metadata": {},
   "source": [
    "For 100 counties, the solving the linear system takes 55 seconds and gradient descent takes 420ms to reach 50 iterations.\n",
    "\n",
    "For 500 counties, gradient descent takes 20s to reach 50 iterations.\n",
    "\n",
    "For 1000 counties, gradient descent takes 1 min 18s to reach 50 iterations.\n",
    "\n",
    "For all 3313 counties...my computer crashes."
   ]
  }
 ],
 "metadata": {
  "kernelspec": {
   "display_name": "Python 3",
   "language": "python",
   "name": "python3"
  },
  "language_info": {
   "codemirror_mode": {
    "name": "ipython",
    "version": 3
   },
   "file_extension": ".py",
   "mimetype": "text/x-python",
   "name": "python",
   "nbconvert_exporter": "python",
   "pygments_lexer": "ipython3",
   "version": "3.5.5"
  }
 },
 "nbformat": 4,
 "nbformat_minor": 2
}
