{
 "cells": [
  {
   "cell_type": "markdown",
   "metadata": {},
   "source": [
    "## Data"
   ]
  },
  {
   "cell_type": "code",
   "execution_count": 28,
   "metadata": {},
   "outputs": [
    {
     "data": {
      "text/html": [
       "<div>\n",
       "<style scoped>\n",
       "    .dataframe tbody tr th:only-of-type {\n",
       "        vertical-align: middle;\n",
       "    }\n",
       "\n",
       "    .dataframe tbody tr th {\n",
       "        vertical-align: top;\n",
       "    }\n",
       "\n",
       "    .dataframe thead th {\n",
       "        text-align: right;\n",
       "    }\n",
       "</style>\n",
       "<table border=\"1\" class=\"dataframe\">\n",
       "  <thead>\n",
       "    <tr style=\"text-align: right;\">\n",
       "      <th></th>\n",
       "      <th>Number</th>\n",
       "      <th>Year</th>\n",
       "      <th>County</th>\n",
       "      <th>FIPS</th>\n",
       "      <th>Deathrate</th>\n",
       "      <th>Population</th>\n",
       "      <th>Poverty</th>\n",
       "      <th>State</th>\n",
       "      <th>City</th>\n",
       "      <th>lat</th>\n",
       "      <th>lng</th>\n",
       "    </tr>\n",
       "  </thead>\n",
       "  <tbody>\n",
       "    <tr>\n",
       "      <th>0</th>\n",
       "      <td>1</td>\n",
       "      <td>1999</td>\n",
       "      <td>Abbeville County, SC</td>\n",
       "      <td>45001</td>\n",
       "      <td>1</td>\n",
       "      <td>25921</td>\n",
       "      <td>3257.0</td>\n",
       "      <td>SC</td>\n",
       "      <td>Abbeville County</td>\n",
       "      <td>34.253043</td>\n",
       "      <td>-82.500214</td>\n",
       "    </tr>\n",
       "    <tr>\n",
       "      <th>1</th>\n",
       "      <td>2</td>\n",
       "      <td>1999</td>\n",
       "      <td>Acadia Parish, LA</td>\n",
       "      <td>22001</td>\n",
       "      <td>7</td>\n",
       "      <td>58762</td>\n",
       "      <td>12461.0</td>\n",
       "      <td>LA</td>\n",
       "      <td>Acadia Parish</td>\n",
       "      <td>30.260009</td>\n",
       "      <td>-92.424273</td>\n",
       "    </tr>\n",
       "    <tr>\n",
       "      <th>2</th>\n",
       "      <td>3</td>\n",
       "      <td>1999</td>\n",
       "      <td>Accomack County, VA</td>\n",
       "      <td>51001</td>\n",
       "      <td>5</td>\n",
       "      <td>37614</td>\n",
       "      <td>6107.0</td>\n",
       "      <td>VA</td>\n",
       "      <td>Accomack County</td>\n",
       "      <td>37.767581</td>\n",
       "      <td>-75.665943</td>\n",
       "    </tr>\n",
       "    <tr>\n",
       "      <th>3</th>\n",
       "      <td>4</td>\n",
       "      <td>1999</td>\n",
       "      <td>Ada County, ID</td>\n",
       "      <td>16001</td>\n",
       "      <td>7</td>\n",
       "      <td>294292</td>\n",
       "      <td>24964.0</td>\n",
       "      <td>ID</td>\n",
       "      <td>Ada County</td>\n",
       "      <td>43.620729</td>\n",
       "      <td>-116.327886</td>\n",
       "    </tr>\n",
       "    <tr>\n",
       "      <th>4</th>\n",
       "      <td>5</td>\n",
       "      <td>1999</td>\n",
       "      <td>Adair County, IA</td>\n",
       "      <td>19001</td>\n",
       "      <td>1</td>\n",
       "      <td>8298</td>\n",
       "      <td>697.0</td>\n",
       "      <td>IA</td>\n",
       "      <td>Adair County</td>\n",
       "      <td>41.282560</td>\n",
       "      <td>-94.484860</td>\n",
       "    </tr>\n",
       "    <tr>\n",
       "      <th>5</th>\n",
       "      <td>6</td>\n",
       "      <td>1999</td>\n",
       "      <td>Adair County, KY</td>\n",
       "      <td>21001</td>\n",
       "      <td>5</td>\n",
       "      <td>17054</td>\n",
       "      <td>3656.0</td>\n",
       "      <td>KY</td>\n",
       "      <td>Adair County</td>\n",
       "      <td>37.110171</td>\n",
       "      <td>-85.307586</td>\n",
       "    </tr>\n",
       "    <tr>\n",
       "      <th>6</th>\n",
       "      <td>7</td>\n",
       "      <td>1999</td>\n",
       "      <td>Adair County, MO</td>\n",
       "      <td>29001</td>\n",
       "      <td>3</td>\n",
       "      <td>24961</td>\n",
       "      <td>3284.0</td>\n",
       "      <td>MO</td>\n",
       "      <td>Adair County</td>\n",
       "      <td>40.157500</td>\n",
       "      <td>-92.524700</td>\n",
       "    </tr>\n",
       "    <tr>\n",
       "      <th>7</th>\n",
       "      <td>8</td>\n",
       "      <td>1999</td>\n",
       "      <td>Adair County, OK</td>\n",
       "      <td>40001</td>\n",
       "      <td>3</td>\n",
       "      <td>20904</td>\n",
       "      <td>4385.0</td>\n",
       "      <td>OK</td>\n",
       "      <td>Adair County</td>\n",
       "      <td>35.877953</td>\n",
       "      <td>-94.649721</td>\n",
       "    </tr>\n",
       "    <tr>\n",
       "      <th>8</th>\n",
       "      <td>9</td>\n",
       "      <td>1999</td>\n",
       "      <td>Adams County, CO</td>\n",
       "      <td>8001</td>\n",
       "      <td>9</td>\n",
       "      <td>354146</td>\n",
       "      <td>32040.0</td>\n",
       "      <td>CO</td>\n",
       "      <td>Adams County</td>\n",
       "      <td>39.844996</td>\n",
       "      <td>-104.872170</td>\n",
       "    </tr>\n",
       "    <tr>\n",
       "      <th>9</th>\n",
       "      <td>10</td>\n",
       "      <td>1999</td>\n",
       "      <td>Adams County, IA</td>\n",
       "      <td>19003</td>\n",
       "      <td>1</td>\n",
       "      <td>4498</td>\n",
       "      <td>510.0</td>\n",
       "      <td>IA</td>\n",
       "      <td>Adams County</td>\n",
       "      <td>41.044500</td>\n",
       "      <td>-94.722000</td>\n",
       "    </tr>\n",
       "  </tbody>\n",
       "</table>\n",
       "</div>"
      ],
      "text/plain": [
       "   Number  Year                County   FIPS  Deathrate  Population  Poverty  \\\n",
       "0       1  1999  Abbeville County, SC  45001          1       25921   3257.0   \n",
       "1       2  1999     Acadia Parish, LA  22001          7       58762  12461.0   \n",
       "2       3  1999   Accomack County, VA  51001          5       37614   6107.0   \n",
       "3       4  1999        Ada County, ID  16001          7      294292  24964.0   \n",
       "4       5  1999      Adair County, IA  19001          1        8298    697.0   \n",
       "5       6  1999      Adair County, KY  21001          5       17054   3656.0   \n",
       "6       7  1999      Adair County, MO  29001          3       24961   3284.0   \n",
       "7       8  1999      Adair County, OK  40001          3       20904   4385.0   \n",
       "8       9  1999      Adams County, CO   8001          9      354146  32040.0   \n",
       "9      10  1999      Adams County, IA  19003          1        4498    510.0   \n",
       "\n",
       "  State              City        lat         lng  \n",
       "0    SC  Abbeville County  34.253043  -82.500214  \n",
       "1    LA     Acadia Parish  30.260009  -92.424273  \n",
       "2    VA   Accomack County  37.767581  -75.665943  \n",
       "3    ID        Ada County  43.620729 -116.327886  \n",
       "4    IA      Adair County  41.282560  -94.484860  \n",
       "5    KY      Adair County  37.110171  -85.307586  \n",
       "6    MO      Adair County  40.157500  -92.524700  \n",
       "7    OK      Adair County  35.877953  -94.649721  \n",
       "8    CO      Adams County  39.844996 -104.872170  \n",
       "9    IA      Adams County  41.044500  -94.722000  "
      ]
     },
     "execution_count": 28,
     "metadata": {},
     "output_type": "execute_result"
    }
   ],
   "source": [
    "import numpy as np\n",
    "import matplotlib.pyplot as plt\n",
    "import pandas as pd\n",
    "import seaborn as sns\n",
    "%matplotlib inline\n",
    "import os\n",
    "\n",
    "# Raw Data\n",
    "import pandas as pd\n",
    "dr = pd.read_csv('../Data/deathrate.csv')\n",
    "\n",
    "# Rename Column\n",
    "dr = dr.rename(columns = {\"Unnamed: 0\": \"Number\"}) \n",
    "\n",
    "# Drop Mc Kean County and kalawao County due to missing poverty data\n",
    "dr = dr[dr['County'] != 'Mc Kean County, PA']\n",
    "dr = dr[dr['County'] != 'Kalawao County, HI']\n",
    "\n",
    "# Drop duplicate rows\n",
    "dr = dr[dr['Number'] != 788]\n",
    "dr = dr[dr['Number'] != 3924]\n",
    "dr = dr[dr['Number'] != 7060]\n",
    "dr = dr[dr['Number'] != 10196]\n",
    "\n",
    "# Extract out state and county to two new columns\n",
    "dr['State'] = dr.apply(lambda row: row['County'][-2:], axis=1)\n",
    "dr['City'] = dr.apply(lambda row: row['County'].split(',')[0], axis=1)\n",
    "\n",
    "# Merge latitude and longitude with county\n",
    "# Obatined from https://simplemaps.com/data/us-cities\n",
    "cities = pd.read_csv('../Data/cities.csv')\n",
    "cities = cities.drop(columns=['city_ascii', 'state_name', 'population', 'population_proper', 'density', 'source', 'incorporated', 'timezone', 'zips', 'id'])\n",
    "cities_mean = cities.groupby('county_fips').mean()\n",
    "dr = dr.merge(cities_mean, left_on='FIPS', right_on='county_fips', how='left')\n",
    "\n",
    "# Manually insert missing latatiude and longitude\n",
    "# Obtained data from google\n",
    "dr.loc[dr['FIPS'] == 44001, 'lat'] = 41.7258\n",
    "dr.loc[dr['FIPS'] == 44001, 'lng'] = -71.3112\n",
    "dr.loc[dr['FIPS'] == 46113, 'lat'] = 43.2437\n",
    "dr.loc[dr['FIPS'] == 46113, 'lng'] = -102.6216\n",
    "dr.loc[dr['FIPS'] == 2270, 'lat'] = 62.1458\n",
    "dr.loc[dr['FIPS'] == 2270, 'lng'] = -162.8919\n",
    "\n",
    "dr.head(10)\n"
   ]
  },
  {
   "cell_type": "markdown",
   "metadata": {},
   "source": [
    "## Model\n",
    "\n",
    "We model the spatio-temporal structure of our data using a graph structure $G = (V,E)$ where $V$ consists of nodes corresponding each county-year pair and $E$ represents the set of edges between nodes.\n",
    "\n",
    "We consider the case of Kentucky in 1999. We say that two counties are connected by an edge in the graph G if their distance in units of latitude & longitude between them is less than 0.36."
   ]
  },
  {
   "cell_type": "code",
   "execution_count": 29,
   "metadata": {},
   "outputs": [],
   "source": [
    "# Generate distance Matrix\n",
    "def get_delta_matrix(year, state):\n",
    "    df = dr[dr['Year'] == year]\n",
    "    df = df[df['State'] == state]\n",
    "    matrix = np.zeros([len(df),len(df)])\n",
    "    \n",
    "    row=0\n",
    "    column=0\n",
    "    for county_row in df.County.unique():\n",
    "        row = 0\n",
    "        for county_column in df.County.unique():\n",
    "            latitude = float(df[df.County==county_row].lat) - float(df[df.County==county_column].lat)\n",
    "            longitude = float(df[df.County==county_row].lng) - float(df[df.County==county_column].lng)\n",
    "            matrix[row][column] = latitude**2 + longitude**2\n",
    "            row += 1\n",
    "        column += 1\n",
    "\n",
    "    matrix = np.around(matrix, decimals=3)\n",
    "\n",
    "    matrix_neighbor = np.zeros([len(df),len(df)])\n",
    "    for j in range(len(df)):\n",
    "        for i in range(len(df)):\n",
    "            if matrix[i][j] < 0.36:\n",
    "                matrix_neighbor[i][j] = 1\n",
    "            else:\n",
    "                matrix_neighbor[i][j] = 0\n",
    "\n",
    "    index = 0\n",
    "    for row in matrix_neighbor:\n",
    "        matrix_neighbor[index][index] = sum(row)-1\n",
    "        index += 1\n",
    "\n",
    "    rownum = 0\n",
    "    for j in range(len(df)):\n",
    "        rownum += matrix_neighbor[j][j]\n",
    "    \n",
    "    delta = np.zeros([int(rownum),len(df)])\n",
    "    index = 0\n",
    "    for j in range(len(df)):\n",
    "        for i in range(int(matrix_neighbor[j][j])):\n",
    "            delta[index+i][j] = -1\n",
    "        index += int(matrix_neighbor[j][j])\n",
    "\n",
    "    index = 0\n",
    "    for i in range(len(df)):\n",
    "        for j in range(len(df)):\n",
    "            if i == j:\n",
    "                pass\n",
    "            elif int(matrix_neighbor[i][j]) == 1:\n",
    "                delta[index][j] = 1\n",
    "                index += 1\n",
    "    \n",
    "    return(delta)"
   ]
  },
  {
   "cell_type": "code",
   "execution_count": 39,
   "metadata": {},
   "outputs": [],
   "source": [
    "delta = get_delta_matrix(2000, 'IL')"
   ]
  },
  {
   "cell_type": "code",
   "execution_count": 42,
   "metadata": {},
   "outputs": [
    {
     "data": {
      "text/plain": [
       "(576, 102)"
      ]
     },
     "execution_count": 42,
     "metadata": {},
     "output_type": "execute_result"
    }
   ],
   "source": [
    "delta.shape"
   ]
  },
  {
   "cell_type": "code",
   "execution_count": 43,
   "metadata": {},
   "outputs": [
    {
     "data": {
      "text/plain": [
       "9216"
      ]
     },
     "execution_count": 43,
     "metadata": {},
     "output_type": "execute_result"
    }
   ],
   "source": [
    "576*16"
   ]
  },
  {
   "cell_type": "markdown",
   "metadata": {},
   "source": [
    "## Ridge regression\n",
    "\n",
    "$$\n",
    "\\min_{\\beta} \\|y - \\beta \\|_2^2 + \\lambda \\|\\Delta \\beta \\|_2^2 \n",
    "$$"
   ]
  },
  {
   "cell_type": "code",
   "execution_count": 9,
   "metadata": {},
   "outputs": [],
   "source": [
    "def ridge(y, X, llambda, Sigma):\n",
    "    return np.linalg.solve((X.T@X) + (llambda*Sigma.T@Sigma), (X.T@y))"
   ]
  },
  {
   "cell_type": "code",
   "execution_count": 17,
   "metadata": {},
   "outputs": [],
   "source": [
    "def get_beta(year, state, llambda):\n",
    "    df = dr[dr['Year'] == year]\n",
    "    df = df[df['State'] == state]\n",
    "    y = df['Deathrate']\n",
    "    n = len(y)\n",
    "    X = np.eye(n)\n",
    "    delta = get_delta_matrix(year, state)\n",
    "    beta = ridge(y, X, llambda, Sigma = delta)\n",
    "    return beta"
   ]
  },
  {
   "cell_type": "code",
   "execution_count": 18,
   "metadata": {},
   "outputs": [],
   "source": [
    "def get_df(year,state,llambda):\n",
    "    beta = get_beta(year, state, llambda)\n",
    "    df = dr[dr['Year'] == year]\n",
    "    df = df[df['State'] == state]\n",
    "    df['beta'] = beta\n",
    "    return df"
   ]
  },
  {
   "cell_type": "code",
   "execution_count": 19,
   "metadata": {},
   "outputs": [
    {
     "data": {
      "text/html": [
       "<div>\n",
       "<style scoped>\n",
       "    .dataframe tbody tr th:only-of-type {\n",
       "        vertical-align: middle;\n",
       "    }\n",
       "\n",
       "    .dataframe tbody tr th {\n",
       "        vertical-align: top;\n",
       "    }\n",
       "\n",
       "    .dataframe thead th {\n",
       "        text-align: right;\n",
       "    }\n",
       "</style>\n",
       "<table border=\"1\" class=\"dataframe\">\n",
       "  <thead>\n",
       "    <tr style=\"text-align: right;\">\n",
       "      <th></th>\n",
       "      <th>Number</th>\n",
       "      <th>Year</th>\n",
       "      <th>County</th>\n",
       "      <th>FIPS</th>\n",
       "      <th>Deathrate</th>\n",
       "      <th>Population</th>\n",
       "      <th>Poverty</th>\n",
       "      <th>State</th>\n",
       "      <th>City</th>\n",
       "      <th>lat</th>\n",
       "      <th>lng</th>\n",
       "      <th>beta</th>\n",
       "    </tr>\n",
       "  </thead>\n",
       "  <tbody>\n",
       "  </tbody>\n",
       "</table>\n",
       "</div>"
      ],
      "text/plain": [
       "Empty DataFrame\n",
       "Columns: [Number, Year, County, FIPS, Deathrate, Population, Poverty, State, City, lat, lng, beta]\n",
       "Index: []"
      ]
     },
     "execution_count": 19,
     "metadata": {},
     "output_type": "execute_result"
    }
   ],
   "source": [
    "df = get_df(2000, 'CA', 10)\n",
    "# df.to_csv('../Output/beta.csv',index = False)\n",
    "df.head(10)"
   ]
  },
  {
   "cell_type": "markdown",
   "metadata": {},
   "source": [
    "## Fused Lasso"
   ]
  },
  {
   "cell_type": "markdown",
   "metadata": {},
   "source": [
    "$$\n",
    "\\min_{\\beta} \\|y-\\beta\\|_2^2 + \\lambda \\|\\Delta \\beta \\|_1\n",
    "$$"
   ]
  },
  {
   "cell_type": "markdown",
   "metadata": {},
   "source": [
    "CVX solution"
   ]
  },
  {
   "cell_type": "markdown",
   "metadata": {},
   "source": [
    "RegReg"
   ]
  },
  {
   "cell_type": "code",
   "execution_count": 13,
   "metadata": {},
   "outputs": [
    {
     "ename": "ImportError",
     "evalue": "No module named 'regreg'",
     "output_type": "error",
     "traceback": [
      "\u001b[0;31m---------------------------------------------------------------------------\u001b[0m",
      "\u001b[0;31mImportError\u001b[0m                               Traceback (most recent call last)",
      "\u001b[0;32m<ipython-input-13-ceea16146c53>\u001b[0m in \u001b[0;36m<module>\u001b[0;34m()\u001b[0m\n\u001b[1;32m      1\u001b[0m \u001b[0;32mimport\u001b[0m \u001b[0mpylab\u001b[0m\u001b[0;34m\u001b[0m\u001b[0m\n\u001b[1;32m      2\u001b[0m \u001b[0;32mfrom\u001b[0m \u001b[0mscipy\u001b[0m \u001b[0;32mimport\u001b[0m \u001b[0msparse\u001b[0m\u001b[0;34m\u001b[0m\u001b[0m\n\u001b[0;32m----> 3\u001b[0;31m \u001b[0;32mimport\u001b[0m \u001b[0mregreg\u001b[0m\u001b[0;34m.\u001b[0m\u001b[0mapi\u001b[0m \u001b[0;32mas\u001b[0m \u001b[0mrr\u001b[0m\u001b[0;34m\u001b[0m\u001b[0m\n\u001b[0m",
      "\u001b[0;31mImportError\u001b[0m: No module named 'regreg'"
     ]
    }
   ],
   "source": [
    "import pylab\n",
    "from scipy import sparse\n",
    "import regreg.api as rr"
   ]
  },
  {
   "cell_type": "markdown",
   "metadata": {},
   "source": [
    "CV "
   ]
  },
  {
   "cell_type": "markdown",
   "metadata": {},
   "source": [
    "## Poisson regression\n",
    "\n",
    "$$\n",
    "\\min_\\beta \\sum_{i=1}^n e^{\\beta_i} - y_i \\beta_i + \\lambda \\|\\beta\\|_1\n",
    "$$"
   ]
  },
  {
   "cell_type": "markdown",
   "metadata": {},
   "source": [
    "## Inference"
   ]
  },
  {
   "cell_type": "markdown",
   "metadata": {},
   "source": [
    "Bootstrap? How to handle missing data?"
   ]
  }
 ],
 "metadata": {
  "kernelspec": {
   "display_name": "Python 3",
   "language": "python",
   "name": "python3"
  },
  "language_info": {
   "codemirror_mode": {
    "name": "ipython",
    "version": 3
   },
   "file_extension": ".py",
   "mimetype": "text/x-python",
   "name": "python",
   "nbconvert_exporter": "python",
   "pygments_lexer": "ipython3",
   "version": "3.5.5"
  }
 },
 "nbformat": 4,
 "nbformat_minor": 2
}
