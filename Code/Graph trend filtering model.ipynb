{
 "cells": [
  {
   "cell_type": "markdown",
   "metadata": {},
   "source": [
    "# Graph trend filtering model"
   ]
  },
  {
   "cell_type": "markdown",
   "metadata": {},
   "source": [
    "## Introduction\n",
    "\n",
    "This is an implementation of the graph trend filtering algorithm from Wang, Sharpnack, Smola, Tibshirani 2016b."
   ]
  },
  {
   "cell_type": "markdown",
   "metadata": {},
   "source": [
    "## Data"
   ]
  },
  {
   "cell_type": "code",
   "execution_count": 6,
   "metadata": {},
   "outputs": [],
   "source": [
    "import numpy as np\n",
    "import pandas as pd\n",
    "import matplotlib.pyplot as plt\n",
    "%matplotlib inline\n",
    "\n",
    "data = pd.read_csv('../Data/deathrate_clean.csv')\n",
    "\n",
    "n = len(data)\n",
    "beta = np.zeros(n)\n",
    "data['beta'] = pd.Series(beta)"
   ]
  },
  {
   "cell_type": "markdown",
   "metadata": {},
   "source": [
    "## Model\n",
    "\n",
    "Let $y = (y_1,\\dots,y_n)$ represent our spatio-temporal dataset.\n",
    "We suppose that the spatiotemporal structure on our data can be captured by a graph $G=(V,E)$ where $V$ is a set of $n$ vertices corresponding to each county-year pair and $E$ is the set of $m$ undirected edges between counties which are either spatially-adjacent or temporally-adjacent (i.e. in sequential years).\n",
    "\n",
    "\"Fused ridge / Graph Laplacian smoothing\"\n",
    "\n",
    "$$\n",
    "\\min_{\\beta}\\|y-\\beta\\|_2^2 + \\lambda \\sum_{(i,j)\\in E} (\\beta_i - \\beta_j)^2\n",
    "$$\n",
    "\n",
    "Rewritten\n",
    "\n",
    "$$\n",
    "\\min_{\\beta} \\|y-\\beta\\|_2^2 + \\lambda \\|\\Delta \\beta\\|_2^2\n",
    "$$\n",
    "\n",
    "where $\\Delta \\in \\{-1, 0, 1\\}^{m\\times n}$ such that for the $l$th edge in E (row in $\\Delta$), we have $\\Delta_{l,i} = -1$, $\\Delta_{l,j} = 1$, and the other entries equal to zero.\n",
    "\n",
    "The penalty can be rewritten as\n",
    "\n",
    "$$\n",
    "\\lambda \\|\\Delta \\beta\\|_2^2 = \\beta^T L \\beta\n",
    "$$\n",
    "\n",
    "where $L = \\Delta ^T \\Delta$ is the graph Laplacian of G."
   ]
  },
  {
   "cell_type": "markdown",
   "metadata": {},
   "source": [
    "The following code produces the solution to\n",
    "\n",
    "$$\n",
    "\\min_{\\beta} \\|y-X\\beta\\|_2 ^2 + \\lambda (\\beta - \\mu)^T \\Sigma (\\beta-\\mu)\n",
    "$$"
   ]
  },
  {
   "cell_type": "code",
   "execution_count": 8,
   "metadata": {},
   "outputs": [],
   "source": [
    "def ridge(y, X, llambda, mu = None, Sigma = None):\n",
    "    \n",
    "    if mu is None:\n",
    "        mu = np.zeros(len(y))\n",
    "        \n",
    "    if Sigma is None:\n",
    "        Sigma = np.eye(len(y))\n",
    "        \n",
    "        \n",
    "    return np.linalg.solve((X.T@X) + (llambda*Sigma), (X.T@y) + llambda*(Sigma@mu))"
   ]
  },
  {
   "cell_type": "markdown",
   "metadata": {},
   "source": []
  },
  {
   "cell_type": "markdown",
   "metadata": {},
   "source": [
    "## Results\n",
    "\n",
    "### Simulations"
   ]
  },
  {
   "cell_type": "markdown",
   "metadata": {},
   "source": [
    "### Data"
   ]
  },
  {
   "cell_type": "markdown",
   "metadata": {},
   "source": [
    "## Extensions\n",
    "\n",
    "1. Implementation of Poisson regression.\n",
    "2. Implementation of LASSO penalty."
   ]
  },
  {
   "cell_type": "markdown",
   "metadata": {},
   "source": [
    "## Reference\n",
    "\n",
    "http://jmlr.org/papers/volume17/15-147/15-147.pdf"
   ]
  }
 ],
 "metadata": {
  "kernelspec": {
   "display_name": "Python 3",
   "language": "python",
   "name": "python3"
  },
  "language_info": {
   "codemirror_mode": {
    "name": "ipython",
    "version": 3
   },
   "file_extension": ".py",
   "mimetype": "text/x-python",
   "name": "python",
   "nbconvert_exporter": "python",
   "pygments_lexer": "ipython3",
   "version": "3.5.5"
  }
 },
 "nbformat": 4,
 "nbformat_minor": 2
}
