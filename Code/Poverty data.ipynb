{
 "cells": [
  {
   "cell_type": "markdown",
   "metadata": {},
   "source": [
    "## U.S. poverty data by age group and race\n",
    "\n",
    "The following data describe levels of poverty at the U.S. national level. These were taken from the U.S. Census Current Population Survey (CPS).\n",
    "\n",
    "Poverty thresholds to roughly translate poverty to income levels may be found [here](https://www.census.gov/data/tables/time-series/demo/income-poverty/historical-poverty-thresholds.html)."
   ]
  },
  {
   "cell_type": "code",
   "execution_count": 1,
   "metadata": {
    "scrolled": true
   },
   "outputs": [],
   "source": [
    "import pandas as pd\n",
    "\n",
    "file = 'hstpov3.xls'\n",
    "xls = pd.ExcelFile(file)\n",
    "df = xls.parse('Clean')\n",
    "\n",
    "race = \"\"\n",
    "drop_indices = []\n",
    "for index, row in df.iterrows():\n",
    "    if pd.isnull(row[\"Under 18 total\"]):\n",
    "        race = row[\"Year\"]\n",
    "        drop_indices.append(index)\n",
    "    df.loc[index, 'Race'] = race \n",
    "df.drop(drop_indices, inplace = True)\n",
    "\n",
    "df['total'] = df['Under 18 total'] + df['18 to 64 total'] + df['65 and older total']\n",
    "df['below poverty'] = df['Under 18 below poverty'] + df['18 to 64 below poverty'] + df['65 and older below poverty']\n",
    "\n",
    "df['Under 18 below poverty percentage'] = df['Under 18 below poverty'] / df['Under 18 total'] * 100\n",
    "df['18 to 64 below poverty percentage'] = df['18 to 64 below poverty'] / df['18 to 64 total'] * 100\n",
    "df['65 and older below poverty percentage'] = df['65 and older below poverty'] / df['65 and older total'] * 100\n",
    "df['below poverty percentage'] = df['below poverty'] / df['total'] * 100\n",
    "\n",
    "df.to_csv(\"us_poverty.csv\")"
   ]
  }
 ],
 "metadata": {
  "kernelspec": {
   "display_name": "Python 3",
   "language": "python",
   "name": "python3"
  },
  "language_info": {
   "codemirror_mode": {
    "name": "ipython",
    "version": 3
   },
   "file_extension": ".py",
   "mimetype": "text/x-python",
   "name": "python",
   "nbconvert_exporter": "python",
   "pygments_lexer": "ipython3",
   "version": "3.5.5"
  }
 },
 "nbformat": 4,
 "nbformat_minor": 2
}
